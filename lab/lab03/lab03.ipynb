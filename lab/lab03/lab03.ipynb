{
 "cells": [
  {
   "cell_type": "code",
   "execution_count": null,
   "metadata": {
    "deletable": false,
    "editable": false
   },
   "outputs": [],
   "source": [
    "# Initialize Otter\n",
    "import otter\n",
    "grader = otter.Notebook(\"lab03.ipynb\")"
   ]
  },
  {
   "cell_type": "markdown",
   "metadata": {},
   "source": [
    "# Lab 3: More on Tables\n"
   ]
  },
  {
   "cell_type": "code",
   "execution_count": null,
   "metadata": {},
   "outputs": [],
   "source": [
    "# Just run this cell\n",
    "import numpy as np\n",
    "import math\n",
    "from datascience import *\n"
   ]
  },
  {
   "cell_type": "markdown",
   "metadata": {},
   "source": [
    "# 1. Table operations\n",
    "\n",
    "(This section is based on [Data 8 lab 02](https://github.com/data-8/materials-sp20/tree/master/materials/sp20/lab/lab02) section 3.)\n",
    "\n",
    "The table `farmers_markets.csv` contains data on farmers' markets in the United States  (data collected [by the USDA](https://apps.ams.usda.gov/FarmersMarketsExport/ExcelExport.aspx)).  Each row represents one such market.\n",
    "\n",
    "Run the next cell to load the `farmers_markets` table."
   ]
  },
  {
   "cell_type": "code",
   "execution_count": null,
   "metadata": {},
   "outputs": [],
   "source": [
    "# Just run this cell\n",
    "\n",
    "farmers_markets = Table.read_table('farmers_markets.csv')"
   ]
  },
  {
   "cell_type": "markdown",
   "metadata": {},
   "source": [
    "Let's examine our table to see what data it contains.\n",
    "\n",
    "**Question 1.1.** Use the method `show` to display the first 5 rows of `farmers_markets`. \n",
    "\n",
    "*Note:* The terms \"method\" and \"function\" are technically not the same thing, but for the purposes of this course, we will use them interchangeably.\n",
    "\n",
    "**Hint:** `tbl.show(3)` will show the first 3 rows of `tbl`. Additionally, make sure not to call `.show()` without an argument, as this will crash your kernel!\n"
   ]
  },
  {
   "cell_type": "code",
   "execution_count": null,
   "metadata": {},
   "outputs": [],
   "source": [
    "farmers_markets.show(5) # SOLUTION"
   ]
  },
  {
   "cell_type": "markdown",
   "metadata": {
    "deletable": false,
    "editable": false
   },
   "source": [
    "Notice that some of the values in this table are missing, as denoted by \"nan.\" This means either that the value is not available (e.g. if we don’t know the market’s street address) or not applicable (e.g. if the market doesn’t have a street address). You'll also notice that the table has a large number of columns in it!\n",
    "\n",
    "### `num_columns`\n",
    "\n",
    "The table property `num_columns` returns the number of columns in a table. (A \"property\" is just a method that doesn't need to be called by adding parentheses.)\n",
    "\n",
    "Example call: `<tbl>.num_columns`\n",
    "\n",
    "**Question 1.2.** Use `num_columns` to find the number of columns in our farmers' markets dataset.\n",
    "\n",
    "Assign the number of columns to `num_farmers_markets_columns`.\n"
   ]
  },
  {
   "cell_type": "code",
   "execution_count": null,
   "metadata": {
    "tags": []
   },
   "outputs": [],
   "source": [
    "num_farmers_markets_columns = ...\n",
    "print(\"The table has\", num_farmers_markets_columns, \"columns in it!\")"
   ]
  },
  {
   "cell_type": "code",
   "execution_count": null,
   "metadata": {
    "deletable": false,
    "editable": false
   },
   "outputs": [],
   "source": [
    "grader.check(\"q12was32\")"
   ]
  },
  {
   "cell_type": "markdown",
   "metadata": {},
   "source": [
    "### `num_rows`\n",
    "\n",
    "Similarly, the property `num_rows` tells you how many rows are in a table."
   ]
  },
  {
   "cell_type": "code",
   "execution_count": null,
   "metadata": {},
   "outputs": [],
   "source": [
    "# Just run this cell\n",
    "\n",
    "num_farmers_markets_rows = farmers_markets.num_rows\n",
    "print(\"The table has\", num_farmers_markets_rows, \"rows in it!\")"
   ]
  },
  {
   "cell_type": "markdown",
   "metadata": {
    "deletable": false,
    "editable": false
   },
   "source": [
    "### `select`\n",
    "\n",
    "Most of the columns are about particular products -- whether the market sells tofu, pet food, etc.  If we're not interested in that information, it just makes the table difficult to read.  This comes up more than you might think, because people who collect and publish data may not know ahead of time what people will want to do with it.\n",
    "\n",
    "In such situations, we can use the table method `select` to choose only the columns that we want in a particular table. It takes any number of arguments. Each should be the name of a column in the table. It returns a new table with only those columns in it. The columns are in the order *in which they were listed as arguments*.\n",
    "\n",
    "For example, the value of `farmers_markets.select(\"MarketName\", \"State\")` is a table with only the name and the state of each farmers' market in `farmers_markets`.\n",
    "\n",
    "\n",
    "\n",
    "**Question 1.3.** Use `select` to create a table with only the name, city, state, latitude (`y`), and longitude (`x`) of each market.  Call that new table `farmers_markets_locations`.\n",
    "\n",
    "*Hint:* Make sure to be exact when using column names with `select`; double-check capitalization!\n"
   ]
  },
  {
   "cell_type": "code",
   "execution_count": null,
   "metadata": {
    "tags": []
   },
   "outputs": [],
   "source": [
    "farmers_markets_locations = ...\n",
    "farmers_markets_locations"
   ]
  },
  {
   "cell_type": "code",
   "execution_count": null,
   "metadata": {
    "deletable": false,
    "editable": false
   },
   "outputs": [],
   "source": [
    "grader.check(\"q13was33\")"
   ]
  },
  {
   "cell_type": "markdown",
   "metadata": {
    "deletable": false,
    "editable": false
   },
   "source": [
    "### `drop`\n",
    "\n",
    "`drop` serves the same purpose as `select`, but it takes away the columns that you provide rather than the ones that you don't provide. Like `select`, `drop` returns a new table.\n",
    "\n",
    "**Question 1.4.** Suppose you just didn't want the `FMID` and `updateTime` columns in `farmers_markets`.  Create a table that's a copy of `farmers_markets` but doesn't include those columns.  Call that table `farmers_markets_without_fmid`.\n"
   ]
  },
  {
   "cell_type": "code",
   "execution_count": null,
   "metadata": {
    "tags": []
   },
   "outputs": [],
   "source": [
    "farmers_markets_without_fmid = ...\n",
    "farmers_markets_without_fmid"
   ]
  },
  {
   "cell_type": "code",
   "execution_count": null,
   "metadata": {
    "deletable": false,
    "editable": false
   },
   "outputs": [],
   "source": [
    "grader.check(\"q14was34\")"
   ]
  },
  {
   "cell_type": "markdown",
   "metadata": {},
   "source": [
    "Now, suppose we want to answer some questions about farmers' markets in the US. For example, which market(s) have the largest longitude (given by the `x` column)? \n",
    "\n",
    "To answer this, we'll sort `farmers_markets_locations` by longitude."
   ]
  },
  {
   "cell_type": "code",
   "execution_count": null,
   "metadata": {},
   "outputs": [],
   "source": [
    "farmers_markets_locations.sort('x')"
   ]
  },
  {
   "cell_type": "markdown",
   "metadata": {},
   "source": [
    "Oops, that didn't answer our question because we sorted from smallest to largest longitude. To look at the largest longitudes, we'll have to sort in reverse order."
   ]
  },
  {
   "cell_type": "code",
   "execution_count": null,
   "metadata": {
    "scrolled": true
   },
   "outputs": [],
   "source": [
    "farmers_markets_locations.sort('x', descending=True)"
   ]
  },
  {
   "cell_type": "markdown",
   "metadata": {
    "deletable": false,
    "editable": false
   },
   "source": [
    "(The `descending=True` bit is called an *optional argument*. It has a default value of `False`, so when you explicitly tell the function `descending=True`, then the function will sort in descending order.)\n",
    "\n",
    "### `sort`\n",
    "\n",
    "Some details about sort:\n",
    "\n",
    "1. The first argument to `sort` is the name of a column to sort by.\n",
    "2. If the column has text in it, `sort` will sort alphabetically; if the column has numbers, it will sort numerically.\n",
    "3. The value of `farmers_markets_locations.sort(\"x\")` is a *copy* of `farmers_markets_locations`; the `farmers_markets_locations` table doesn't get modified. For example, if we called `farmers_markets_locations.sort(\"x\")`, then running `farmers_markets_locations` by itself would still return the unsorted table.\n",
    "4. Rows always stick together when a table is sorted.  It wouldn't make sense to sort just one column and leave the other columns alone.  For example, in this case, if we sorted just the `x` column, the farmers' markets would all end up with the wrong longitudes.\n",
    "\n",
    "**Question 1.5.** Create a version of `farmers_markets_locations` that's sorted by **latitude (`y`)**, with the largest latitudes first.  Call it `farmers_markets_locations_by_latitude`.\n"
   ]
  },
  {
   "cell_type": "code",
   "execution_count": null,
   "metadata": {
    "scrolled": true,
    "tags": []
   },
   "outputs": [],
   "source": [
    "farmers_markets_locations_by_latitude = ...\n",
    "farmers_markets_locations_by_latitude"
   ]
  },
  {
   "cell_type": "code",
   "execution_count": null,
   "metadata": {
    "deletable": false,
    "editable": false
   },
   "outputs": [],
   "source": [
    "grader.check(\"q15was35\")"
   ]
  },
  {
   "cell_type": "markdown",
   "metadata": {},
   "source": [
    "Now let's say we want a table of all farmers' markets in Ohio. Sorting won't help us much here because Ohio  is closer to the middle of the dataset.\n",
    "\n",
    "Instead, we use the table method `where`."
   ]
  },
  {
   "cell_type": "code",
   "execution_count": null,
   "metadata": {},
   "outputs": [],
   "source": [
    "ohio_farmers_markets = farmers_markets_locations.where('State', are.equal_to('Ohio'))\n",
    "ohio_farmers_markets"
   ]
  },
  {
   "cell_type": "markdown",
   "metadata": {},
   "source": [
    "Ignore the syntax for the moment.  Instead, try to read that line like this:\n",
    "\n",
    "> Assign the name **`ohio_farmers_markets`** to a table whose rows are the rows in the **`farmers_markets_locations`** table **`where`** the **`State`** s **`are` `equal` `to` `Ohio`**."
   ]
  },
  {
   "cell_type": "markdown",
   "metadata": {},
   "source": [
    "### `where`\n",
    "\n",
    "Now let's dive into the details a bit more.  `where` takes 2 arguments:\n",
    "\n",
    "1. The name of a column.  `where` finds rows where that column's values meet some criterion.\n",
    "2. A predicate that describes the criterion that the column needs to meet.\n",
    "\n",
    "The predicate in the example above called the function `are.equal_to` with the value we wanted, 'Ohio'.  We'll see other predicates soon.\n",
    "\n",
    "`where` returns a table that's a copy of the original table, but **with only the rows that meet the given predicate**."
   ]
  },
  {
   "cell_type": "markdown",
   "metadata": {
    "deletable": false,
    "editable": false
   },
   "source": [
    "**Question 1.6.** Use `ohio_farmers_markets` to create a table called `athens_markets` containing farmers' markets in Athens, Ohio."
   ]
  },
  {
   "cell_type": "code",
   "execution_count": null,
   "metadata": {
    "tags": []
   },
   "outputs": [],
   "source": [
    "athens_markets = ...\n",
    "athens_markets"
   ]
  },
  {
   "cell_type": "code",
   "execution_count": null,
   "metadata": {
    "deletable": false,
    "editable": false
   },
   "outputs": [],
   "source": [
    "grader.check(\"q16was36\")"
   ]
  },
  {
   "cell_type": "markdown",
   "metadata": {},
   "source": [
    "So far we've only been using `where` with the predicate that requires finding the values in a column to be *exactly* equal to a certain value. However, there are many other predicates. Here are a few:\n",
    "\n",
    "|Predicate|Example|Result|\n",
    "|-|-|-|\n",
    "|`are.equal_to`|`are.equal_to(50)`|Find rows with values equal to 50|\n",
    "|`are.not_equal_to`|`are.not_equal_to(50)`|Find rows with values not equal to 50|\n",
    "|`are.above`|`are.above(50)`|Find rows with values above (and not equal to) 50|\n",
    "|`are.above_or_equal_to`|`are.above_or_equal_to(50)`|Find rows with values above 50 or equal to 50|\n",
    "|`are.below`|`are.below(50)`|Find rows with values below 50|\n",
    "|`are.between`|`are.between(2, 10)`|Find rows with values above or equal to 2 and below 10|"
   ]
  },
  {
   "cell_type": "markdown",
   "metadata": {},
   "source": [
    "## 2. Analyzing a dataset\n",
    "\n",
    "(This section is based on [Data 8 lab 02](https://github.com/data-8/materials-sp20/tree/master/materials/sp20/lab/lab02) section 4.)\n",
    "\n",
    "Now that you're familiar with table operations, let’s answer an interesting question about a dataset!\n",
    "\n",
    "Run the cell below to load the `imdb` table. It contains information about the 250 highest-rated movies on IMDb."
   ]
  },
  {
   "cell_type": "code",
   "execution_count": null,
   "metadata": {
    "scrolled": true
   },
   "outputs": [],
   "source": [
    "# Just run this cell\n",
    "\n",
    "imdb = Table.read_table('imdb.csv')\n",
    "imdb"
   ]
  },
  {
   "cell_type": "markdown",
   "metadata": {},
   "source": [
    "Often, we want to perform multiple operations - sorting, filtering, or others - in order to turn a table we have into something more useful. You can do these operations one by one, e.g.\n",
    "\n",
    "```\n",
    "first_step = original_tbl.where(“col1”, are.equal_to(12))\n",
    "second_step = first_step.sort(‘col2’, descending=True)\n",
    "```\n",
    "\n",
    "However, since the value of the expression `original_tbl.where(“col1”, are.equal_to(12))` is itself a table, you can just call a table method on it:\n",
    "\n",
    "```\n",
    "original_tbl.where(“col1”, are.equal_to(12)).sort(‘col2’, descending=True)\n",
    "```\n",
    "You should organize your work in the way that makes the most sense to you, using informative names for any intermediate tables you create. "
   ]
  },
  {
   "cell_type": "markdown",
   "metadata": {
    "deletable": false,
    "editable": false
   },
   "source": [
    "**Question 2.1.** Create a table of movies released between 2010 and 2016 (inclusive) with ratings above 8. The table should only contain the columns `Title` and `Rating`, **in that order**.\n",
    "\n",
    "Assign the table to the name `above_eight`.\n",
    "\n",
    "*Hint:* Think about the steps you need to take, and try to put them in an order that make sense. Feel free to create intermediate tables for each step, but please make sure you assign your final table the name `above_eight`!\n"
   ]
  },
  {
   "cell_type": "code",
   "execution_count": null,
   "metadata": {
    "scrolled": false,
    "tags": []
   },
   "outputs": [],
   "source": [
    "above_eight = ...\n",
    "above_eight"
   ]
  },
  {
   "cell_type": "code",
   "execution_count": null,
   "metadata": {
    "deletable": false,
    "editable": false
   },
   "outputs": [],
   "source": [
    "grader.check(\"q21was41\")"
   ]
  },
  {
   "cell_type": "markdown",
   "metadata": {
    "deletable": false,
    "editable": false
   },
   "source": [
    "**Question 2.2.** Use `num_rows` (and arithmetic) to find the *proportion* of movies in the dataset that were released 1900-1999, and the *proportion* of movies in the dataset that were released in the year 2000 or later.\n",
    "\n",
    "Assign `proportion_in_20th_century` to the proportion of movies in the dataset that were released 1900-1999, and `proportion_in_21st_century` to the proportion of movies in the dataset that were released in the year 2000 or later.\n",
    "\n",
    "*Hint:* The *proportion* of movies released in the 1900's is the *number* of movies released in the 1900's, divided by the *total number* of movies.\n"
   ]
  },
  {
   "cell_type": "code",
   "execution_count": null,
   "metadata": {
    "tags": []
   },
   "outputs": [],
   "source": [
    "num_movies_in_dataset = ...\n",
    "num_in_20th_century = ...\n",
    "num_in_21st_century = ...\n",
    "proportion_in_20th_century = ...\n",
    "proportion_in_21st_century = ...\n",
    "print(\"Proportion in 20th century:\", proportion_in_20th_century)\n",
    "print(\"Proportion in 21st century:\", proportion_in_21st_century)"
   ]
  },
  {
   "cell_type": "code",
   "execution_count": null,
   "metadata": {
    "deletable": false,
    "editable": false
   },
   "outputs": [],
   "source": [
    "grader.check(\"q22was42\")"
   ]
  },
  {
   "cell_type": "markdown",
   "metadata": {
    "collapsed": true
   },
   "source": [
    "## 3. More Table Operations!\n",
    "\n",
    "(This section is based on [Data 8 lab 03](https://github.com/data-8/materials-sp20/tree/master/materials/sp20/lab/lab03) section 4.)\n",
    "\n",
    "Now that you've worked with arrays, let's add a few more methods to the list of table operations."
   ]
  },
  {
   "cell_type": "code",
   "execution_count": null,
   "metadata": {},
   "outputs": [],
   "source": [
    "# Just run this cell\n",
    "population_amounts = Table.read_table(\"world_population.csv\").column(\"Population\")\n",
    "years = np.arange(1950, 2015+1)\n",
    "population = Table().with_columns(\"Population\", population_amounts,\"Year\", years)\n",
    "top_10_movie_ratings = make_array(9.2, 9.2, 9., 8.9, 8.9, 8.9, 8.9, 8.9, 8.9, 8.8)\n",
    "top_10_movie_names = make_array(\n",
    "        'The Shawshank Redemption (1994)',\n",
    "        'The Godfather (1972)',\n",
    "        'The Godfather: Part II (1974)',\n",
    "        'Pulp Fiction (1994)',\n",
    "        \"Schindler's List (1993)\",\n",
    "        'The Lord of the Rings: The Return of the King (2003)',\n",
    "        '12 Angry Men (1957)',\n",
    "        'The Dark Knight (2008)',\n",
    "        'Il buono, il brutto, il cattivo (1966)',\n",
    "        'The Lord of the Rings: The Fellowship of the Ring (2001)')\n",
    "top_10_movies = Table().with_columns(\"Rating\", top_10_movie_ratings, \"Name\", top_10_movie_names)"
   ]
  },
  {
   "cell_type": "markdown",
   "metadata": {},
   "source": [
    "### `column`\n",
    "\n",
    "`column` takes the column name of a table (in string format) as its argument and returns the values in that column as an **array**. "
   ]
  },
  {
   "cell_type": "code",
   "execution_count": null,
   "metadata": {
    "scrolled": true
   },
   "outputs": [],
   "source": [
    "# Returns an array of movie names\n",
    "top_10_movies.column('Name')"
   ]
  },
  {
   "cell_type": "markdown",
   "metadata": {},
   "source": [
    "### `take`\n",
    "The table method `take` takes as its argument an array of numbers.  Each number should be the index of a row in the table.  It returns a **new table** with only those rows. \n",
    "\n",
    "You'll usually want to use `take` in conjunction with `np.arange` to take the first few rows of a table."
   ]
  },
  {
   "cell_type": "code",
   "execution_count": null,
   "metadata": {
    "scrolled": true
   },
   "outputs": [],
   "source": [
    "# Take first 5 movies of top_10_movies\n",
    "top_10_movies.take(np.arange(0, 5, 1))"
   ]
  },
  {
   "cell_type": "markdown",
   "metadata": {},
   "source": [
    "The next three questions will give you practice with combining the operations you've learned in this lab and the previous one to answer questions about the `population` and `imdb` tables. First, check out the `population` table from section 2."
   ]
  },
  {
   "cell_type": "code",
   "execution_count": null,
   "metadata": {},
   "outputs": [],
   "source": [
    "# Run this cell to display the population table.\n",
    "population"
   ]
  },
  {
   "cell_type": "markdown",
   "metadata": {
    "deletable": false,
    "editable": false
   },
   "source": [
    "**Question 3.1.** Check out the `population` table from section 2 of this lab.  Compute the year when the world population first went above 6 billion. Assign the year to `year_population_crossed_6_billion`.\n"
   ]
  },
  {
   "cell_type": "code",
   "execution_count": null,
   "metadata": {
    "tags": []
   },
   "outputs": [],
   "source": [
    "year_population_crossed_6_billion = ...\n",
    "year_population_crossed_6_billion"
   ]
  },
  {
   "cell_type": "code",
   "execution_count": null,
   "metadata": {
    "deletable": false,
    "editable": false
   },
   "outputs": [],
   "source": [
    "grader.check(\"q31was41\")"
   ]
  },
  {
   "cell_type": "markdown",
   "metadata": {
    "deletable": false,
    "editable": false
   },
   "source": [
    "**Question 3.2.** Find the average rating for movies released before the year 2000 and the average rating for movies released in the year 2000 or after for the movies in `imdb`.\n",
    "\n",
    "*Hint*: Think of the steps you need to do (take the average, find the ratings, find movies released in 20th/21st centuries), and try to put them in an order that makes sense.\n"
   ]
  },
  {
   "cell_type": "code",
   "execution_count": null,
   "metadata": {
    "tags": []
   },
   "outputs": [],
   "source": [
    "before_2000 = ...\n",
    "after_or_in_2000 = ...\n",
    "print(\"Average before 2000 rating:\", before_2000)\n",
    "print(\"Average after or in 2000 rating:\", after_or_in_2000)"
   ]
  },
  {
   "cell_type": "code",
   "execution_count": null,
   "metadata": {
    "deletable": false,
    "editable": false
   },
   "outputs": [],
   "source": [
    "grader.check(\"q32was42\")"
   ]
  },
  {
   "cell_type": "markdown",
   "metadata": {
    "deletable": false,
    "editable": false
   },
   "source": [
    "**Question 3.3.** Here's a challenge: Find the number of movies that came out in *even* years.\n",
    "\n",
    "*Hint:* The operator `%` computes the remainder when dividing by a number.  So `5 % 2` is 1 and `6 % 2` is 0.  A number is even if the remainder is 0 when you divide by 2.\n",
    "\n",
    "*Hint 2:* `%` can be used on arrays, operating elementwise like `+` or `*`.  So `make_array(5, 6, 7) % 2` is `array([1, 0, 1])`.\n",
    "\n",
    "*Hint 3:* Create a column called \"Year Remainder\" that's the remainder when each movie's release year is divided by 2.  Make a copy of `imdb` that includes that column (`imdb.with_column(...)` returns a new table).  Then use `where` to find rows where that new column is equal to 0.  Then use `num_rows` to count the number of such rows.\n",
    "\n",
    "*Note:* These steps can be chained in one single statement, or broken up across several lines with intermediate names assigned. You’re always welcome to break down problems however you wish!\n"
   ]
  },
  {
   "cell_type": "code",
   "execution_count": null,
   "metadata": {
    "tags": []
   },
   "outputs": [],
   "source": [
    "num_even_year_movies = ...\n",
    "num_even_year_movies"
   ]
  },
  {
   "cell_type": "code",
   "execution_count": null,
   "metadata": {
    "deletable": false,
    "editable": false
   },
   "outputs": [],
   "source": [
    "grader.check(\"q33was43\")"
   ]
  },
  {
   "cell_type": "markdown",
   "metadata": {},
   "source": [
    "## Summary\n",
    "\n",
    "(This section is based on [Data 8 lab 02](https://github.com/data-8/materials-sp20/tree/master/materials/sp20/lab/lab02) section 5.)\n",
    "\n",
    "For your reference, here's a table the Table methods we saw in this lab. We'll learn more methods to add to this table in the coming week!\n",
    "\n",
    "|Name|Example|Purpose|\n",
    "|-|-|-|\n",
    "|`sort`|`tbl.sort(\"N\")`|Create a copy of a table sorted by the values in a column|\n",
    "|`where`|`tbl.where(\"N\", are.above(2))`|Create a copy of a table with only the rows that match some *predicate*|\n",
    "|`num_rows`|`tbl.num_rows`|Compute the number of rows in a table|\n",
    "|`num_columns`|`tbl.num_columns`|Compute the number of columns in a table|\n",
    "|`select`|`tbl.select(\"N\")`|Create a copy of a table with only some of the columns|\n",
    "|`drop`|`tbl.drop(\"2*N\")`|Create a copy of a table without some of the columns|\n",
    "|`column`|`tbl.column(\"N\")`| Return the values in a column as an **array**|  \n",
    "|`take` |`tbl.take(row_indices)`|Create a new table with only the rows indicated.|"
   ]
  },
  {
   "cell_type": "markdown",
   "metadata": {},
   "source": [
    "You're done with the Lab! \n",
    "\n",
    "**Important submission steps:** \n",
    "1. Run the tests and verify that they all pass.\n",
    "2. Choose **Save Notebook** from the **File** menu, then **run the final cell**. \n",
    "3. Click the link to download the zip file.\n",
    "4. Then submit the zip file in BlackBoard. \n",
    "\n",
    "**It is your responsibility to make sure your work is saved before running the last cell.**"
   ]
  },
  {
   "cell_type": "markdown",
   "metadata": {
    "deletable": false,
    "editable": false
   },
   "source": [
    "## Submission\n",
    "\n",
    "Make sure you have run all cells in your notebook in order before running the cell below, so that all images/graphs appear in the output. The cell below will generate a zip file for you to submit. **Please save before exporting!**\n",
    "\n",
    "After exporting, submit the .zip file in BlackBoard"
   ]
  },
  {
   "cell_type": "code",
   "execution_count": null,
   "metadata": {
    "deletable": false,
    "editable": false
   },
   "outputs": [],
   "source": [
    "# Save your notebook first, then run this cell to export your submission.\n",
    "grader.export(pdf=False, run_tests=True)"
   ]
  },
  {
   "cell_type": "markdown",
   "metadata": {},
   "source": [
    " "
   ]
  }
 ],
 "metadata": {
  "celltoolbar": "Edit Metadata",
  "kernelspec": {
   "display_name": "Python 3 (ipykernel)",
   "language": "python",
   "name": "python3"
  },
  "language_info": {
   "codemirror_mode": {
    "name": "ipython",
    "version": 3
   },
   "file_extension": ".py",
   "mimetype": "text/x-python",
   "name": "python",
   "nbconvert_exporter": "python",
   "pygments_lexer": "ipython3",
   "version": "3.10.6"
  },
  "otter": {
   "OK_FORMAT": true,
   "tests": {
    "q12was32": {
     "name": "q12was32",
     "points": null,
     "suites": [
      {
       "cases": [
        {
         "code": ">>> num_farmers_markets_columns == 59\nTrue",
         "hidden": false,
         "locked": false
        }
       ],
       "scored": true,
       "setup": "",
       "teardown": "",
       "type": "doctest"
      }
     ]
    },
    "q13was33": {
     "name": "q13was33",
     "points": null,
     "suites": [
      {
       "cases": [
        {
         "code": ">>> sorted(farmers_markets_locations.labels) == ['MarketName', 'State', 'city', 'x', 'y']\nTrue",
         "hidden": false,
         "locked": false
        },
        {
         "code": ">>> farmers_markets_locations.num_rows == 8546\nTrue",
         "hidden": false,
         "locked": false
        }
       ],
       "scored": true,
       "setup": "",
       "teardown": "",
       "type": "doctest"
      }
     ]
    },
    "q14was34": {
     "name": "q14was34",
     "points": null,
     "suites": [
      {
       "cases": [
        {
         "code": ">>> farmers_markets_without_fmid.num_columns == 57\nTrue",
         "hidden": false,
         "locked": false
        },
        {
         "code": ">>> print(sorted(farmers_markets_without_fmid.labels))\n['Bakedgoods', 'Beans', 'Cheese', 'Coffee', 'County', 'Crafts', 'Credit', 'Eggs', 'Facebook', 'Flowers', 'Fruits', 'Grains', 'Herbs', 'Honey', 'Jams', 'Juices', 'Location', 'Maple', 'MarketName', 'Meat', 'Mushrooms', 'Nursery', 'Nuts', 'Organic', 'OtherMedia', 'PetFood', 'Plants', 'Poultry', 'Prepared', 'SFMNP', 'SNAP', 'Seafood', 'Season1Date', 'Season1Time', 'Season2Date', 'Season2Time', 'Season3Date', 'Season3Time', 'Season4Date', 'Season4Time', 'Soap', 'State', 'Tofu', 'Trees', 'Twitter', 'Vegetables', 'WIC', 'WICcash', 'Website', 'WildHarvested', 'Wine', 'Youtube', 'city', 'street', 'x', 'y', 'zip']\n",
         "hidden": false,
         "locked": false
        }
       ],
       "scored": true,
       "setup": "",
       "teardown": "",
       "type": "doctest"
      }
     ]
    },
    "q15was35": {
     "name": "q15was35",
     "points": null,
     "suites": [
      {
       "cases": [
        {
         "code": ">>> type(farmers_markets_locations_by_latitude) == tables.Table\nTrue",
         "hidden": false,
         "locked": false
        },
        {
         "code": ">>> list(farmers_markets_locations_by_latitude.column('y').take(range(3))) == [64.86275, 64.8459, 64.844414]\nTrue",
         "hidden": false,
         "locked": false
        }
       ],
       "scored": true,
       "setup": "",
       "teardown": "",
       "type": "doctest"
      }
     ]
    },
    "q16was36": {
     "name": "q16was36",
     "points": null,
     "suites": [
      {
       "cases": [
        {
         "code": ">>> athens_markets.num_rows == 1\nTrue",
         "hidden": false,
         "locked": false
        },
        {
         "code": ">>> list(athens_markets.column('city')) == ['Athens']\nTrue",
         "hidden": false,
         "locked": false
        }
       ],
       "scored": true,
       "setup": "",
       "teardown": "",
       "type": "doctest"
      }
     ]
    },
    "q21was41": {
     "name": "q21was41",
     "points": null,
     "suites": [
      {
       "cases": [
        {
         "code": ">>> type(above_eight) == tables.Table\nTrue",
         "hidden": false,
         "locked": false
        },
        {
         "code": ">>> above_eight.num_rows == 20\nTrue",
         "hidden": false,
         "locked": false
        },
        {
         "code": ">>> print(above_eight.sort(0).take([17]))\nTitle       | Rating\nToy Story 3 | 8.3\n",
         "hidden": false,
         "locked": false
        }
       ],
       "scored": true,
       "setup": "",
       "teardown": "",
       "type": "doctest"
      }
     ]
    },
    "q22was42": {
     "name": "q22was42",
     "points": null,
     "suites": [
      {
       "cases": [
        {
         "code": ">>> proportion_in_20th_century == 0.684\nTrue",
         "hidden": false,
         "locked": false
        },
        {
         "code": ">>> proportion_in_21st_century == 0.316\nTrue",
         "hidden": false,
         "locked": false
        }
       ],
       "scored": true,
       "setup": "",
       "teardown": "",
       "type": "doctest"
      }
     ]
    },
    "q31was41": {
     "name": "q31was41",
     "points": null,
     "suites": [
      {
       "cases": [
        {
         "code": ">>> type(year_population_crossed_6_billion) in [int, np.int32, np.int64]\nTrue",
         "hidden": false,
         "locked": false
        },
        {
         "code": ">>> year_population_crossed_6_billion == 1999\nTrue",
         "hidden": false,
         "locked": false
        }
       ],
       "scored": true,
       "setup": "",
       "teardown": "",
       "type": "doctest"
      }
     ]
    },
    "q32was42": {
     "name": "q32was42",
     "points": null,
     "suites": [
      {
       "cases": [
        {
         "code": ">>> abs(before_2000 - 8.278362573099415) < 1e-05\nTrue",
         "hidden": false,
         "locked": false
        },
        {
         "code": ">>> abs(after_or_in_2000 - 8.237974683544303) < 1e-05\nTrue",
         "hidden": false,
         "locked": false
        }
       ],
       "scored": true,
       "setup": "",
       "teardown": "",
       "type": "doctest"
      }
     ]
    },
    "q33was43": {
     "name": "q33was43",
     "points": null,
     "suites": [
      {
       "cases": [
        {
         "code": ">>> num_even_year_movies == 127\nTrue",
         "hidden": false,
         "locked": false
        }
       ],
       "scored": true,
       "setup": "",
       "teardown": "",
       "type": "doctest"
      }
     ]
    }
   }
  }
 },
 "nbformat": 4,
 "nbformat_minor": 2
}
