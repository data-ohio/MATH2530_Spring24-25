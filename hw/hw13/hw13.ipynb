{
 "cells": [
  {
   "cell_type": "code",
   "execution_count": null,
   "id": "42b1271b",
   "metadata": {
    "deletable": false,
    "editable": false
   },
   "outputs": [],
   "source": [
    "# Initialize Otter\n",
    "import otter\n",
    "grader = otter.Notebook(\"hw13.ipynb\")"
   ]
  },
  {
   "cell_type": "markdown",
   "id": "4345afd3",
   "metadata": {},
   "source": [
    "# Homework 13: Data Ethics: Laws and Discrimination"
   ]
  },
  {
   "cell_type": "markdown",
   "id": "89340a9c",
   "metadata": {
    "deletable": false,
    "editable": false
   },
   "source": [
    "<!-- BEGIN QUESTION -->\n",
    "\n",
    "**Question:** What is your name?"
   ]
  },
  {
   "cell_type": "markdown",
   "id": "29fc1d23",
   "metadata": {
    "tags": [
     "otter_answer_cell"
    ]
   },
   "source": [
    "_Type your answer here, replacing this text._"
   ]
  },
  {
   "cell_type": "markdown",
   "id": "2454aa24",
   "metadata": {
    "deletable": false,
    "editable": false
   },
   "source": [
    "<!-- END QUESTION -->\n",
    "\n",
    "## 1. Laws and Regulations\n",
    "\n",
    "### 1.1 The European General Data Protection Regulation (GDPR)"
   ]
  },
  {
   "cell_type": "markdown",
   "id": "1632e941",
   "metadata": {
    "deletable": false,
    "editable": false
   },
   "source": [
    "<!-- BEGIN QUESTION -->\n",
    "\n",
    "**Question 1.1.1.**\n",
    "\n",
    "Under GDPR, how long can a business save personally identifying information in an archive?"
   ]
  },
  {
   "cell_type": "markdown",
   "id": "c0f5c01f",
   "metadata": {
    "tags": [
     "otter_answer_cell"
    ]
   },
   "source": [
    "_Type your answer here, replacing this text._"
   ]
  },
  {
   "cell_type": "markdown",
   "id": "f85f16ad",
   "metadata": {
    "deletable": false,
    "editable": false
   },
   "source": [
    "<!-- END QUESTION -->\n",
    "\n",
    "<!-- BEGIN QUESTION -->\n",
    "\n",
    "**Question 1.1.2.**\n",
    "\n",
    "Under GDPR, can a business collect and process personal data in order to save someone's life?"
   ]
  },
  {
   "cell_type": "markdown",
   "id": "5a05aff4",
   "metadata": {
    "tags": [
     "otter_answer_cell"
    ]
   },
   "source": [
    "_Type your answer here, replacing this text._"
   ]
  },
  {
   "cell_type": "markdown",
   "id": "f810fbfb",
   "metadata": {
    "deletable": false,
    "editable": false
   },
   "source": [
    "<!-- END QUESTION -->\n",
    "\n",
    "<!-- BEGIN QUESTION -->\n",
    "\n",
    "**Question 1.1.3.**\n",
    "\n",
    "What is the right to erasure?"
   ]
  },
  {
   "cell_type": "markdown",
   "id": "749bf553",
   "metadata": {
    "tags": [
     "otter_answer_cell"
    ]
   },
   "source": [
    "_Type your answer here, replacing this text._"
   ]
  },
  {
   "cell_type": "markdown",
   "id": "cfcfdaa9",
   "metadata": {
    "deletable": false,
    "editable": false
   },
   "source": [
    "<!-- END QUESTION -->\n",
    "\n",
    "<!-- BEGIN QUESTION -->\n",
    "\n",
    "**Question 1.1.4.**\n",
    "\n",
    "What is the right to rectification?"
   ]
  },
  {
   "cell_type": "markdown",
   "id": "185332b4",
   "metadata": {
    "tags": [
     "otter_answer_cell"
    ]
   },
   "source": [
    "_Type your answer here, replacing this text._"
   ]
  },
  {
   "cell_type": "markdown",
   "id": "adbb2030",
   "metadata": {
    "deletable": false,
    "editable": false
   },
   "source": [
    "<!-- END QUESTION -->\n",
    "\n",
    "### 1.2 The California Privacy Rights Act (CPRA) of 2020"
   ]
  },
  {
   "cell_type": "markdown",
   "id": "ae861758",
   "metadata": {
    "deletable": false,
    "editable": false
   },
   "source": [
    "<!-- BEGIN QUESTION -->\n",
    "\n",
    "**Question 1.2.1.**\n",
    "\n",
    "Under the California Privacy Rights Act, how long can a business save personally identifying information in an archive?"
   ]
  },
  {
   "cell_type": "markdown",
   "id": "96bdb0d3",
   "metadata": {
    "tags": [
     "otter_answer_cell"
    ]
   },
   "source": [
    "_Type your answer here, replacing this text._"
   ]
  },
  {
   "cell_type": "markdown",
   "id": "93a34ad3",
   "metadata": {
    "deletable": false,
    "editable": false
   },
   "source": [
    "<!-- END QUESTION -->\n",
    "\n",
    "<!-- BEGIN QUESTION -->\n",
    "\n",
    "**Question 1.2.2.**\n",
    "\n",
    "Under the California Privacy Rights Act, do people have the right to stop businesses from using their race?"
   ]
  },
  {
   "cell_type": "markdown",
   "id": "198f6eeb",
   "metadata": {
    "tags": [
     "otter_answer_cell"
    ]
   },
   "source": [
    "_Type your answer here, replacing this text._"
   ]
  },
  {
   "cell_type": "markdown",
   "id": "e331f192",
   "metadata": {
    "deletable": false,
    "editable": false
   },
   "source": [
    "<!-- END QUESTION -->\n",
    "\n",
    "<!-- BEGIN QUESTION -->\n",
    "\n",
    "**Question 1.2.3.**\n",
    "\n",
    "Under the California Privacy Rights Act, do people have the right to to rectification?"
   ]
  },
  {
   "cell_type": "markdown",
   "id": "13e2eaf2",
   "metadata": {
    "tags": [
     "otter_answer_cell"
    ]
   },
   "source": [
    "_Type your answer here, replacing this text._"
   ]
  },
  {
   "cell_type": "markdown",
   "id": "7aa6da5a",
   "metadata": {
    "deletable": false,
    "editable": false
   },
   "source": [
    "<!-- END QUESTION -->\n",
    "\n",
    "### 1.3 Privacy Rights in Ohio\n",
    "\n",
    "Neither the GDPR nor the CPRA apply in Ohio.\n",
    "Investigate what rights people in Ohio have."
   ]
  },
  {
   "cell_type": "markdown",
   "id": "9e82aba1",
   "metadata": {
    "deletable": false,
    "editable": false
   },
   "source": [
    "<!-- BEGIN QUESTION -->\n",
    "\n",
    "**Question 1.3.1.**\n",
    "In Ohio, do people have the right to erasure?"
   ]
  },
  {
   "cell_type": "markdown",
   "id": "a0b74753",
   "metadata": {
    "tags": [
     "otter_answer_cell"
    ]
   },
   "source": [
    "_Type your answer here, replacing this text._"
   ]
  },
  {
   "cell_type": "markdown",
   "id": "23b88977",
   "metadata": {
    "deletable": false,
    "editable": false
   },
   "source": [
    "<!-- END QUESTION -->\n",
    "\n",
    "<!-- BEGIN QUESTION -->\n",
    "\n",
    "**Question 1.3.2.**\n",
    "In Ohio, do people have the right to rectification?"
   ]
  },
  {
   "cell_type": "markdown",
   "id": "e7570e1a",
   "metadata": {
    "tags": [
     "otter_answer_cell"
    ]
   },
   "source": [
    "_Type your answer here, replacing this text._"
   ]
  },
  {
   "cell_type": "markdown",
   "id": "8601bad7",
   "metadata": {
    "deletable": false,
    "editable": false
   },
   "source": [
    "<!-- END QUESTION -->\n",
    "\n",
    "<!-- BEGIN QUESTION -->\n",
    "\n",
    "**Question 1.3.3.**\n",
    "What privacy right do people in Ohio have?"
   ]
  },
  {
   "cell_type": "markdown",
   "id": "a6f22c1f",
   "metadata": {
    "tags": [
     "otter_answer_cell"
    ]
   },
   "source": [
    "_Type your answer here, replacing this text._"
   ]
  },
  {
   "cell_type": "markdown",
   "id": "0b0ec209",
   "metadata": {
    "deletable": false,
    "editable": false
   },
   "source": [
    "<!-- END QUESTION -->\n",
    "\n",
    "### 1.4 Section 230 of the Communications Decency Act (CDA)"
   ]
  },
  {
   "cell_type": "markdown",
   "id": "271653c9",
   "metadata": {
    "deletable": false,
    "editable": false
   },
   "source": [
    "<!-- BEGIN QUESTION -->\n",
    "\n",
    "**Question 1.4.1.**\n",
    "\n",
    "Under section 230 of the CDA, can you host a website on which other people post lies, post threats, or try to defraud others without you getting in trouble?"
   ]
  },
  {
   "cell_type": "markdown",
   "id": "6870f335",
   "metadata": {
    "tags": [
     "otter_answer_cell"
    ]
   },
   "source": [
    "_Type your answer here, replacing this text._"
   ]
  },
  {
   "cell_type": "markdown",
   "id": "7f7fe03c",
   "metadata": {
    "deletable": false,
    "editable": false
   },
   "source": [
    "<!-- END QUESTION -->\n",
    "\n",
    "<!-- BEGIN QUESTION -->\n",
    "\n",
    "**Question 1.4.2.**\n",
    "\n",
    "What are the benefits of having section 230 of the CDA as the law?"
   ]
  },
  {
   "cell_type": "markdown",
   "id": "55866377",
   "metadata": {
    "tags": [
     "otter_answer_cell"
    ]
   },
   "source": [
    "_Type your answer here, replacing this text._"
   ]
  },
  {
   "cell_type": "markdown",
   "id": "11cf0845",
   "metadata": {
    "deletable": false,
    "editable": false
   },
   "source": [
    "<!-- END QUESTION -->\n",
    "\n",
    "## 2. Unfair Discrimination and Social Bias"
   ]
  },
  {
   "cell_type": "markdown",
   "id": "12e8e6c0",
   "metadata": {
    "deletable": false,
    "editable": false
   },
   "source": [
    "<!-- BEGIN QUESTION -->\n",
    "\n",
    "**Question 2.1.**\n",
    "\n",
    "What is *Algorithmic Bias*?"
   ]
  },
  {
   "cell_type": "markdown",
   "id": "c8ca2330",
   "metadata": {
    "tags": [
     "otter_answer_cell"
    ]
   },
   "source": [
    "_Type your answer here, replacing this text._"
   ]
  },
  {
   "cell_type": "markdown",
   "id": "72f6bd60",
   "metadata": {
    "deletable": false,
    "editable": false
   },
   "source": [
    "<!-- END QUESTION -->\n",
    "\n",
    "<!-- BEGIN QUESTION -->\n",
    "\n",
    "**Question 2.2.**\n",
    "\n",
    "What is *redlining*?\n",
    "Did redlining happen in the area where you grew up?"
   ]
  },
  {
   "cell_type": "markdown",
   "id": "3c2fc435",
   "metadata": {
    "tags": [
     "otter_answer_cell"
    ]
   },
   "source": [
    "_Type your answer here, replacing this text._"
   ]
  },
  {
   "cell_type": "markdown",
   "id": "d07213f6",
   "metadata": {
    "deletable": false,
    "editable": false
   },
   "source": [
    "<!-- END QUESTION -->\n",
    "\n",
    "### 2.1 Hiring\n",
    "\n",
    "A company wants to hire people that it thinks will stay and be successful at that company. \n",
    "It collects data from the applications of people it hired 5 years ago, and labels each as successful, unsuccessful, or left.\n",
    "It then constructs a kNN classifier using these three classes."
   ]
  },
  {
   "cell_type": "markdown",
   "id": "53813c7f",
   "metadata": {
    "deletable": false,
    "editable": false
   },
   "source": [
    "<!-- BEGIN QUESTION -->\n",
    "\n",
    "**Question 2.1.1.**\n",
    "\n",
    "What benefit could the company expect from using this classifier when making hiring decisions?"
   ]
  },
  {
   "cell_type": "markdown",
   "id": "9f1444d2",
   "metadata": {
    "tags": [
     "otter_answer_cell"
    ]
   },
   "source": [
    "_Type your answer here, replacing this text._"
   ]
  },
  {
   "cell_type": "markdown",
   "id": "b434e47a",
   "metadata": {
    "deletable": false,
    "editable": false
   },
   "source": [
    "<!-- END QUESTION -->\n",
    "\n",
    "<!-- BEGIN QUESTION -->\n",
    "\n",
    "**Question 2.1.2.**\n",
    "\n",
    "How could using this classifier when making hiring decisions reinforce social biases?"
   ]
  },
  {
   "cell_type": "markdown",
   "id": "5e42c8fb",
   "metadata": {
    "tags": [
     "otter_answer_cell"
    ]
   },
   "source": [
    "_Type your answer here, replacing this text._"
   ]
  },
  {
   "cell_type": "markdown",
   "id": "83aa1604",
   "metadata": {
    "deletable": false,
    "editable": false
   },
   "source": [
    "<!-- END QUESTION -->\n",
    "\n",
    "<!-- BEGIN QUESTION -->\n",
    "\n",
    "**Question 2.1.3.**\n",
    "\n",
    "What could the company do to gain the benfits of using a classifier without reinforcing social biases?"
   ]
  },
  {
   "cell_type": "markdown",
   "id": "8948b262",
   "metadata": {
    "tags": [
     "otter_answer_cell"
    ]
   },
   "source": [
    "_Type your answer here, replacing this text._"
   ]
  },
  {
   "cell_type": "markdown",
   "id": "1b5b9ac2",
   "metadata": {
    "deletable": false,
    "editable": false
   },
   "source": [
    "<!-- END QUESTION -->\n",
    "\n",
    "### 2.2 MATH Placement\n",
    "\n",
    "When students enter a university, they are given a Mathematics placement level, which determines which MATH courses they can enroll in initially. For example it determines whether they can start in Calculus or need to first take Pre-Calculus.\n",
    "\n",
    "For this simplified example, assume that the only two classes are Pre-Calculus and Calculus."
   ]
  },
  {
   "cell_type": "markdown",
   "id": "03b6cde3",
   "metadata": {
    "deletable": false,
    "editable": false
   },
   "source": [
    "<!-- BEGIN QUESTION -->\n",
    "\n",
    "**Question 2.2.1**\n",
    "\n",
    "University A requires students to take the [ACT](https://www.act.org/) standardized test and places them into Calculus if they score at least 30 on the Math portion of the ACT.\n",
    "\n",
    "What are the advantages and disadvantages of this method?\n",
    "Could it be biased toward or against some group?"
   ]
  },
  {
   "cell_type": "markdown",
   "id": "24e11d9f",
   "metadata": {
    "tags": [
     "otter_answer_cell"
    ]
   },
   "source": [
    "_Type your answer here, replacing this text._"
   ]
  },
  {
   "cell_type": "markdown",
   "id": "758bab52",
   "metadata": {
    "deletable": false,
    "editable": false
   },
   "source": [
    "<!-- END QUESTION -->\n",
    "\n",
    "<!-- BEGIN QUESTION -->\n",
    "\n",
    "**Question 2.2.2.**\n",
    "\n",
    "University B places student based only on their High School GPA.\n",
    "If they have at least 3.5, then they are placed into Calculus.\n",
    "\n",
    "What are the advantages and disadvantages of this method?\n",
    "Could it be biased toward or against some group?"
   ]
  },
  {
   "cell_type": "markdown",
   "id": "f20d07f4",
   "metadata": {
    "tags": [
     "otter_answer_cell"
    ]
   },
   "source": [
    "_Type your answer here, replacing this text._"
   ]
  },
  {
   "cell_type": "markdown",
   "id": "3dd42322",
   "metadata": {
    "deletable": false,
    "editable": false
   },
   "source": [
    "<!-- END QUESTION -->\n",
    "\n",
    "<!-- BEGIN QUESTION -->\n",
    "\n",
    "**Question 2.2.3.**\n",
    "\n",
    "University C requires students to take the [ACT](https://www.act.org/) standardized test but also uses their High School GPA when placing them.\n",
    "\n",
    "Using recent students, they gathered data on their ACT score, GPA, and grade in Calculus. It looked something like\n",
    "\n",
    "| ACT   | GPA    | Grade |\n",
    "| ------ | ------ | ----- |\n",
    "| 24     | 3.6    | B+    |\n",
    "| 32     | 2.1    | D     |\n",
    "| ... | ... | ... |\n",
    "\n",
    "They constructed a multiple-regression model that used both `ACT` and `GPA` to predict the Grade (converted to 0-4 scale).\n",
    "(Thus, for example, a higher GPA could compensate for a lower ACT score.)\n",
    "They then place students into Calculus if their predicted grade is at least C (2.00).\n",
    "\n",
    "What are the advantages and disadvantages of this method?\n",
    "Could it be biased toward or against some group?"
   ]
  },
  {
   "cell_type": "markdown",
   "id": "f6f7b915",
   "metadata": {
    "tags": [
     "otter_answer_cell"
    ]
   },
   "source": [
    "_Type your answer here, replacing this text._"
   ]
  },
  {
   "cell_type": "markdown",
   "id": "c60a3a3a",
   "metadata": {
    "deletable": false,
    "editable": false
   },
   "source": [
    "<!-- END QUESTION -->\n",
    "\n",
    "<!-- BEGIN QUESTION -->\n",
    "\n",
    "**Question 2.2.4.**\n",
    "\n",
    "University D requires students to take the [ACT](https://www.act.org/) standardized test but also considers other information in their application (GPA, zip code, rating of their High School, gender, ...).\n",
    "\n",
    "Using recent students, they gathered data on their ACT score, other application information, and grade in Calculus. \n",
    "They constructed a multiple-regression model that used all the available information to predict the Grade (converted to 0-4 scale).\n",
    "They then place students into Calculus if their predicted grade is at least C (2.00).\n",
    "\n",
    "What are the advantages and disadvantages of this method?\n",
    "Could it be biased toward or against some group?"
   ]
  },
  {
   "cell_type": "markdown",
   "id": "1ac03442",
   "metadata": {
    "tags": [
     "otter_answer_cell"
    ]
   },
   "source": [
    "_Type your answer here, replacing this text._"
   ]
  },
  {
   "cell_type": "markdown",
   "id": "799c5b58",
   "metadata": {
    "deletable": false,
    "editable": false
   },
   "source": [
    "<!-- END QUESTION -->\n",
    "\n",
    "<!-- BEGIN QUESTION -->\n",
    "\n",
    "**Question 2.2.5.**\n",
    "\n",
    "If University D removed gender from their data, what other variables could possibly be used as a proxy for gender? "
   ]
  },
  {
   "cell_type": "markdown",
   "id": "ee3d0641",
   "metadata": {
    "tags": [
     "otter_answer_cell"
    ]
   },
   "source": [
    "_Type your answer here, replacing this text._"
   ]
  },
  {
   "cell_type": "markdown",
   "id": "fc7d4677",
   "metadata": {
    "deletable": false,
    "editable": false
   },
   "source": [
    "<!-- END QUESTION -->\n",
    "\n",
    "### 2.3 Borrowed Scerarios\n",
    "\n",
    "Now we'll consider some [exercises](https://mdsr-book.github.io/mdsr2e/ch-ethics.html#ethics-exercises) from [Modern Data Science with R](https://mdsr-book.github.io/mdsr2e/).\n",
    "To avoid copyright violations, we will just give the problem number and start."
   ]
  },
  {
   "cell_type": "markdown",
   "id": "4deb760b",
   "metadata": {
    "deletable": false,
    "editable": false
   },
   "source": [
    "<!-- BEGIN QUESTION -->\n",
    "\n",
    "**Question 2.3.1.**\n",
    "\n",
    "[Problem](https://mdsr-book.github.io/mdsr2e/ch-ethics.html#ethics-exercises) 2 (Medium): A data scientist compiled data ... "
   ]
  },
  {
   "cell_type": "markdown",
   "id": "73a4d2ea",
   "metadata": {
    "tags": [
     "otter_answer_cell"
    ]
   },
   "source": [
    "_Type your answer here, replacing this text._"
   ]
  },
  {
   "cell_type": "markdown",
   "id": "1e526aa3",
   "metadata": {
    "deletable": false,
    "editable": false
   },
   "source": [
    "<!-- END QUESTION -->\n",
    "\n",
    "<!-- BEGIN QUESTION -->\n",
    "\n",
    "**Question 2.3.2.**\n",
    "\n",
    "[Problem](https://mdsr-book.github.io/mdsr2e/ch-ethics.html#ethics-exercises) 6 (Medium): A _Slate_ article... "
   ]
  },
  {
   "cell_type": "markdown",
   "id": "caf818ee",
   "metadata": {
    "tags": [
     "otter_answer_cell"
    ]
   },
   "source": [
    "_Type your answer here, replacing this text._"
   ]
  },
  {
   "cell_type": "markdown",
   "id": "8eb40606",
   "metadata": {
    "deletable": false,
    "editable": false
   },
   "source": [
    "<!-- END QUESTION -->\n",
    "\n",
    "## Acknowledgements"
   ]
  },
  {
   "cell_type": "markdown",
   "id": "9cfebc0e",
   "metadata": {
    "deletable": false,
    "editable": false
   },
   "source": [
    "<!-- BEGIN QUESTION -->\n",
    "\n",
    "**Acknowledgements:**\n",
    "If you received help from any person other than your instructor, then describe here what help you received and from whom. \n",
    "If not, then say 'None'."
   ]
  },
  {
   "cell_type": "markdown",
   "id": "4ca04972",
   "metadata": {
    "tags": [
     "otter_answer_cell"
    ]
   },
   "source": [
    "_Type your answer here, replacing this text._"
   ]
  },
  {
   "cell_type": "markdown",
   "id": "8de00572",
   "metadata": {
    "deletable": false,
    "editable": false
   },
   "source": [
    "<!-- END QUESTION -->\n",
    "\n",
    "It is forbidden to: \n",
    "* Use the work or programs from students who took this class (in any of its versions at any university).\n",
    "* Use websites that claim to have solutions for this class (in any of its versions at any university).\n",
    "* Directly copy from a classmate.\n",
    "\n",
    "**Did you do anything forbidden while working on this assignment?**\n",
    "\n",
    "Assign `did_forbidden` to either `True` or `False`."
   ]
  },
  {
   "cell_type": "code",
   "execution_count": null,
   "id": "a4e005b6",
   "metadata": {
    "tags": [
     "otter_answer_cell"
    ]
   },
   "outputs": [],
   "source": [
    "did_forbidden = ..."
   ]
  },
  {
   "cell_type": "code",
   "execution_count": null,
   "id": "3cdc77aa",
   "metadata": {
    "deletable": false,
    "editable": false
   },
   "outputs": [],
   "source": [
    "grader.check(\"q_forbidden\")"
   ]
  },
  {
   "cell_type": "markdown",
   "id": "75e9e4e1",
   "metadata": {
    "deletable": false,
    "editable": false
   },
   "source": [
    "## Submission\n",
    "\n",
    "Make sure you have run all cells in your notebook in order before running the cell below, so that all images/graphs appear in the output. The cell below will generate a zip file for you to submit. **Please save before exporting!**\n",
    "\n",
    "After saving and exporting, submit the .zip file in Canvas"
   ]
  },
  {
   "cell_type": "code",
   "execution_count": null,
   "id": "c52087aa",
   "metadata": {
    "deletable": false,
    "editable": false
   },
   "outputs": [],
   "source": [
    "# Save your notebook first, then run this cell to export your submission.\n",
    "grader.export(run_tests=True)"
   ]
  },
  {
   "cell_type": "markdown",
   "id": "43041e32",
   "metadata": {},
   "source": [
    " "
   ]
  }
 ],
 "metadata": {
  "kernelspec": {
   "display_name": "Python 3 (ipykernel)",
   "language": "python",
   "name": "python3"
  },
  "language_info": {
   "codemirror_mode": {
    "name": "ipython",
    "version": 3
   },
   "file_extension": ".py",
   "mimetype": "text/x-python",
   "name": "python",
   "nbconvert_exporter": "python",
   "pygments_lexer": "ipython3",
   "version": "3.13.1"
  },
  "otter": {
   "OK_FORMAT": true,
   "tests": {
    "q_forbidden": {
     "name": "q_forbidden",
     "points": null,
     "suites": [
      {
       "cases": [
        {
         "code": ">>> did_forbidden in [True, False]\nTrue",
         "hidden": false,
         "locked": false
        }
       ],
       "scored": true,
       "setup": "",
       "teardown": "",
       "type": "doctest"
      }
     ]
    }
   }
  }
 },
 "nbformat": 4,
 "nbformat_minor": 5
}
