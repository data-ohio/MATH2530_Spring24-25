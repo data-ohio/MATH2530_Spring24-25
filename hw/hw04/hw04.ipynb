{
 "cells": [
  {
   "cell_type": "code",
   "execution_count": null,
   "id": "1fcba1cb",
   "metadata": {
    "deletable": false,
    "editable": false
   },
   "outputs": [],
   "source": [
    "# Initialize Otter\n",
    "import otter\n",
    "grader = otter.Notebook(\"hw04.ipynb\")"
   ]
  },
  {
   "cell_type": "markdown",
   "id": "dc8638ac",
   "metadata": {},
   "source": [
    "# Homework 4: Wrangling the Vote \n",
    "(Cleaning, Outliers, and Missing Values) "
   ]
  },
  {
   "cell_type": "markdown",
   "id": "4ea3f05c",
   "metadata": {
    "deletable": false,
    "editable": false
   },
   "source": [
    "<!-- BEGIN QUESTION -->\n",
    "\n",
    "**Question:** What is your name?"
   ]
  },
  {
   "cell_type": "markdown",
   "id": "a289f60f",
   "metadata": {},
   "source": [
    "_Type your answer here, replacing this text._"
   ]
  },
  {
   "cell_type": "markdown",
   "id": "806dff8a",
   "metadata": {
    "deletable": false,
    "editable": false
   },
   "source": [
    "<!-- END QUESTION -->\n",
    "\n",
    "Please complete this notebook by filling in the cells provided. \n",
    "\n",
    "**Throughout this homework and all future ones, please be sure to not re-assign variables throughout the notebook!** For example, if you use `max_temperature` in your answer to one question, do not reassign it later on. Moreover, please be sure to only put your written answers in the provided cells. "
   ]
  },
  {
   "cell_type": "code",
   "execution_count": null,
   "id": "042e0648",
   "metadata": {},
   "outputs": [],
   "source": [
    "# Don't change this cell; just run it. \n",
    "\n",
    "import numpy as np\n",
    "from datascience import *"
   ]
  },
  {
   "cell_type": "markdown",
   "id": "77d422d9",
   "metadata": {},
   "source": [
    "## Voting in Athens County, Ohio\n",
    "\n",
    "The Ohio Secretary of State provides csv files of registered voters on its page\n",
    "[Statewide Voter Files download, by county](https://www6.ohiosos.gov/ords/f?p=111:1).\n",
    "There is also a button where you can download a description of the Voter File Layout. \n",
    "\n",
    "Below is the data from Athens County, downloaded on January 27, 2023. "
   ]
  },
  {
   "cell_type": "code",
   "execution_count": null,
   "id": "e31510d9",
   "metadata": {},
   "outputs": [],
   "source": [
    "# just run this cell\n",
    "# (To make things run faster we skip columns about voting prior to 2022.)\n",
    "registered = Table().read_table(\"Athens_voter_registered_20230127.csv\").select(*list(range(46)),114,115,116)\n",
    "registered.show(4)"
   ]
  },
  {
   "cell_type": "markdown",
   "id": "48178e22",
   "metadata": {},
   "source": [
    "The Athens County Board of Elections provides [csv files for those who voted in specific elections](https://lookup.boe.ohio.gov/vtrapp/athens/vtrreport.aspx). \n",
    "\n",
    "The following file was downloaded on January 30, 2023, using the options\n",
    "* Downloadable File (Comma Separated Values)\n",
    "* 11/8/2022 General Election, 8/2/2022 Primary Election, 5/3/2022 Primary Election\n",
    "* OR - Meaning any elections could meet the criteria\n",
    "* All Current Part Affiliations\n",
    "* No Filtering\n",
    "* Alphabetical\n",
    "* Yes, Mailing Addresses in addition to Residential Addresses?\n",
    "\n",
    "(There were two primaries in 2022 due to court battle over redistricting.)"
   ]
  },
  {
   "cell_type": "code",
   "execution_count": null,
   "id": "8f391d5c",
   "metadata": {},
   "outputs": [],
   "source": [
    "# just run this cell\n",
    "# (To make things run faster we skip columns about voting prior to 2022.)\n",
    "voted = Table().read_table(\"Athens_voter_voted_20230130.csv\").select(*list(range(33))) \n",
    "voted.show(3)"
   ]
  },
  {
   "cell_type": "markdown",
   "id": "bb8034fe",
   "metadata": {},
   "source": [
    "## 1. Registration versus voting\n",
    "\n",
    "The `registered` table has a column `SOS_VOTERID`, which the documentation says is\n",
    "> The Secretary of State centralized system’s generated unique number, assigned to each voter registration record.\n",
    "\n",
    "The `voted` table has this same number in the column `SOSIDNUM`.\n",
    "\n",
    "One expects that some people who are registered did not vote.\n",
    "Did any vote who are not registered?\n",
    "\n",
    "The python `set` object has a method [`difference`](https://docs.python.org/3/library/stdtypes.html#frozenset.difference) that will help. \n",
    "It gives the set of elements in the initial set that are not in the other set(s), as illustrated below."
   ]
  },
  {
   "cell_type": "code",
   "execution_count": null,
   "id": "bf5cdaa1",
   "metadata": {},
   "outputs": [],
   "source": [
    "set(['a','b','c','d']).difference(set(['a','c','e']))"
   ]
  },
  {
   "cell_type": "markdown",
   "id": "a6d9ec17",
   "metadata": {
    "deletable": false,
    "editable": false
   },
   "source": [
    "**Question 1.1:** Assign `ID_voted_not_registered` to the set of all IDs for people who voted but are not registered."
   ]
  },
  {
   "cell_type": "code",
   "execution_count": null,
   "id": "9c23dc48",
   "metadata": {
    "scrolled": true,
    "tags": []
   },
   "outputs": [],
   "source": [
    "ID_voted_not_registered = ...\n",
    "ID_voted_not_registered"
   ]
  },
  {
   "cell_type": "code",
   "execution_count": null,
   "id": "02624703",
   "metadata": {
    "deletable": false,
    "editable": false
   },
   "outputs": [],
   "source": [
    "grader.check(\"q1_1\")"
   ]
  },
  {
   "cell_type": "markdown",
   "id": "6f7cf02b",
   "metadata": {
    "deletable": false,
    "editable": false
   },
   "source": [
    "**Question 1.2:** Assign `voted_not_registered` to a table with the rows from `voted` of people who are not registered.\n",
    "\n",
    "(Hint: Use [`tbl.where`](http://www.data8.org/datascience/reference-nb/datascience-reference.html#tbl.where()) with [`are.contained_in`](http://www.data8.org/datascience/reference-nb/datascience-reference.html#are.contained_in()).)"
   ]
  },
  {
   "cell_type": "code",
   "execution_count": null,
   "id": "16c93179",
   "metadata": {
    "tags": []
   },
   "outputs": [],
   "source": [
    "voted_not_registered = ...\n",
    "voted_not_registered"
   ]
  },
  {
   "cell_type": "code",
   "execution_count": null,
   "id": "e2834e2d",
   "metadata": {
    "deletable": false,
    "editable": false
   },
   "outputs": [],
   "source": [
    "grader.check(\"q1_2\")"
   ]
  },
  {
   "cell_type": "markdown",
   "id": "1c25d346",
   "metadata": {
    "deletable": false,
    "editable": false
   },
   "source": [
    "<!-- BEGIN QUESTION -->\n",
    "\n",
    "**Question 1.3:** Why might there be people who voted but are not registered?"
   ]
  },
  {
   "cell_type": "markdown",
   "id": "b7da0d95",
   "metadata": {},
   "source": [
    "_Type your answer here, replacing this text._"
   ]
  },
  {
   "cell_type": "markdown",
   "id": "0f3dfc6c",
   "metadata": {
    "deletable": false,
    "editable": false
   },
   "source": [
    "<!-- END QUESTION -->\n",
    "\n",
    "## 2. Voter birthdays and years\n",
    "\n",
    "The `DATE_OF_BIRTH` column in `registered` has the date of birth. "
   ]
  },
  {
   "cell_type": "markdown",
   "id": "5dace265",
   "metadata": {
    "deletable": false,
    "editable": false
   },
   "source": [
    "**Question 2.1:** Sort `registered` so the earliest births are first, then set `earliest_registered_birth` to the earliest date."
   ]
  },
  {
   "cell_type": "code",
   "execution_count": null,
   "id": "cdd27814",
   "metadata": {
    "tags": []
   },
   "outputs": [],
   "source": [
    "registered_sorted_by_birth = ...\n",
    "registered_sorted_by_birth.show(5)\n",
    "earliest_registered_birth = ...\n",
    "earliest_registered_birth"
   ]
  },
  {
   "cell_type": "code",
   "execution_count": null,
   "id": "96ea5985",
   "metadata": {
    "deletable": false,
    "editable": false
   },
   "outputs": [],
   "source": [
    "grader.check(\"q2_1\")"
   ]
  },
  {
   "cell_type": "markdown",
   "id": "778cc98f",
   "metadata": {},
   "source": [
    "The `BIRTHYEAR` column in `voted` has the year of birth."
   ]
  },
  {
   "cell_type": "markdown",
   "id": "b0cb8cb5",
   "metadata": {
    "deletable": false,
    "editable": false
   },
   "source": [
    "**Question 2.2:** Sort `voted` so the earliest births are first, then set `earliest_voted_birth` to the earliest year."
   ]
  },
  {
   "cell_type": "code",
   "execution_count": null,
   "id": "e1ffd4b0",
   "metadata": {
    "tags": []
   },
   "outputs": [],
   "source": [
    "voted_sorted_by_birth = ...\n",
    "voted_sorted_by_birth.show(5)\n",
    "earliest_voted_birth = ...\n",
    "earliest_voted_birth"
   ]
  },
  {
   "cell_type": "code",
   "execution_count": null,
   "id": "b6dfc89f",
   "metadata": {
    "deletable": false,
    "editable": false
   },
   "outputs": [],
   "source": [
    "grader.check(\"q2_2\")"
   ]
  },
  {
   "cell_type": "markdown",
   "id": "d443c2e1",
   "metadata": {
    "deletable": false,
    "editable": false
   },
   "source": [
    "<!-- BEGIN QUESTION -->\n",
    "\n",
    "**Question 2.3:** Are these earliest birthdays and years plausible?\n",
    "Are they outliers or errors?"
   ]
  },
  {
   "cell_type": "markdown",
   "id": "b544fa63",
   "metadata": {},
   "source": [
    "_Type your answer here, replacing this text._"
   ]
  },
  {
   "cell_type": "markdown",
   "id": "25992dbd",
   "metadata": {
    "deletable": false,
    "editable": false
   },
   "source": [
    "<!-- END QUESTION -->\n",
    "\n",
    "**Question 2.4:** Sort `registered` so the latest births are first, then set `latest_registered_birth` to the latest date."
   ]
  },
  {
   "cell_type": "code",
   "execution_count": null,
   "id": "ec130c68",
   "metadata": {
    "tags": []
   },
   "outputs": [],
   "source": [
    "registered_sorted_by_birth_descending = ...\n",
    "registered_sorted_by_birth_descending.show(5)\n",
    "latest_registered_birth = ...\n",
    "latest_registered_birth"
   ]
  },
  {
   "cell_type": "code",
   "execution_count": null,
   "id": "33197186",
   "metadata": {
    "deletable": false,
    "editable": false
   },
   "outputs": [],
   "source": [
    "grader.check(\"q2_4\")"
   ]
  },
  {
   "cell_type": "markdown",
   "id": "f54d23dc",
   "metadata": {
    "deletable": false,
    "editable": false
   },
   "source": [
    "**Question 2.5:** Sort `voted` so the latest births are first, then set `latest_voted_birth` to the latest year."
   ]
  },
  {
   "cell_type": "code",
   "execution_count": null,
   "id": "5675e412",
   "metadata": {
    "scrolled": true,
    "tags": []
   },
   "outputs": [],
   "source": [
    "voted_sorted_by_birth_descending = ...\n",
    "voted_sorted_by_birth_descending.show(5)\n",
    "latest_voted_birth = ...\n",
    "latest_voted_birth"
   ]
  },
  {
   "cell_type": "code",
   "execution_count": null,
   "id": "4dec8f33",
   "metadata": {
    "deletable": false,
    "editable": false
   },
   "outputs": [],
   "source": [
    "grader.check(\"q2_5\")"
   ]
  },
  {
   "cell_type": "markdown",
   "id": "5e59405f",
   "metadata": {
    "deletable": false,
    "editable": false
   },
   "source": [
    "<!-- BEGIN QUESTION -->\n",
    "\n",
    "**Question 2.6:** \n",
    "Voters are supposed to be at least 18 years old on the date of the general election. \n",
    "Are these latest birthdays and years consistent with that requirement? \n",
    "If not, then what might be the cause?"
   ]
  },
  {
   "cell_type": "markdown",
   "id": "5117166d",
   "metadata": {},
   "source": [
    "_Type your answer here, replacing this text._"
   ]
  },
  {
   "cell_type": "markdown",
   "id": "98d7ec51",
   "metadata": {
    "deletable": false,
    "editable": false
   },
   "source": [
    "<!-- END QUESTION -->\n",
    "\n",
    "We can find out how many voters were born each year using `group`, and then sort by year or by count."
   ]
  },
  {
   "cell_type": "code",
   "execution_count": null,
   "id": "dfc1ef59",
   "metadata": {},
   "outputs": [],
   "source": [
    "voted.group('BIRTHYEAR').sort('BIRTHYEAR')"
   ]
  },
  {
   "cell_type": "code",
   "execution_count": null,
   "id": "8e34280f",
   "metadata": {},
   "outputs": [],
   "source": [
    "voted.group('BIRTHYEAR').sort('count',descending=True)"
   ]
  },
  {
   "cell_type": "markdown",
   "id": "afb3f429",
   "metadata": {},
   "source": [
    "However, there are too many years involved to get a good understanding of the distribution.\n",
    "To simplify, we can first bin voters into their decade, and then group by decade.\n",
    "\n",
    "Here is function that converts a year to a decade.\n",
    "It uses the python `//` operation, which means divide integers and discard the remainder"
   ]
  },
  {
   "cell_type": "code",
   "execution_count": null,
   "id": "f3ccd0c6",
   "metadata": {},
   "outputs": [],
   "source": [
    "def year_to_decade(year):\n",
    "    return (year//10)*10\n",
    "# simple test\n",
    "year_to_decade(1949)"
   ]
  },
  {
   "cell_type": "markdown",
   "id": "255c093d",
   "metadata": {
    "deletable": false,
    "editable": false
   },
   "source": [
    "**Question 2.7** Assign `voted_with_decade` to a `Table` consisting of `voted` and an additional column `BIRTHDECADE` with the decade of birth."
   ]
  },
  {
   "cell_type": "code",
   "execution_count": null,
   "id": "cd61abbe",
   "metadata": {
    "tags": []
   },
   "outputs": [],
   "source": [
    "voted_with_decade = ...\n",
    "voted_with_decade.show(3)\n",
    "# inspect the decade column\n",
    "voted_with_decade.select('BIRTHYEAR','BIRTHDECADE')"
   ]
  },
  {
   "cell_type": "code",
   "execution_count": null,
   "id": "b950bbf8",
   "metadata": {
    "deletable": false,
    "editable": false
   },
   "outputs": [],
   "source": [
    "grader.check(\"q2_7\")"
   ]
  },
  {
   "cell_type": "markdown",
   "id": "14db2a66",
   "metadata": {},
   "source": [
    "Now we can group to see the distribution:"
   ]
  },
  {
   "cell_type": "code",
   "execution_count": null,
   "id": "9be3fbc6",
   "metadata": {},
   "outputs": [],
   "source": [
    "voted_with_decade.group('BIRTHDECADE').sort('BIRTHDECADE').show(11)"
   ]
  },
  {
   "cell_type": "markdown",
   "id": "5a5397c0",
   "metadata": {},
   "source": [
    "## 3. Party Affiliation\n",
    "\n",
    "We can also use `group` to check party affiliations, in the column `PARTYAFFIL`."
   ]
  },
  {
   "cell_type": "code",
   "execution_count": null,
   "id": "b0c53708",
   "metadata": {},
   "outputs": [],
   "source": [
    "voted.group('PARTYAFFIL')"
   ]
  },
  {
   "cell_type": "markdown",
   "id": "127cb7aa",
   "metadata": {},
   "source": [
    "Since there are so few of them, let's consider those with affiliation `IND` or `LIB` to be outliers.\n",
    "They are not errors, but would clutter our analysis.\n",
    "\n",
    "Looking back out our `BIRTHDECADE` information, the decades `1900` and `1910` are also outliers, which would clutter our analysis."
   ]
  },
  {
   "cell_type": "markdown",
   "id": "6c9bd360",
   "metadata": {
    "deletable": false,
    "editable": false
   },
   "source": [
    "**Question 3.1:** Starting from `voted_with_decade`, create `voted_with_decade_noout` than has removed rows with affiliation `IND` or `LIB` or `BIRTHDECADE` `1900` or `1910`."
   ]
  },
  {
   "cell_type": "code",
   "execution_count": null,
   "id": "426a9453",
   "metadata": {
    "scrolled": true,
    "tags": []
   },
   "outputs": [],
   "source": [
    "voted_with_decade_noout = ...\n",
    "\n",
    "# check\n",
    "voted_with_decade_noout.group('PARTYAFFIL').show()\n",
    "voted_with_decade_noout.group('BIRTHDECADE').show(3)\n",
    "voted_with_decade_noout.show(3)"
   ]
  },
  {
   "cell_type": "code",
   "execution_count": null,
   "id": "78ce2bb1",
   "metadata": {
    "deletable": false,
    "editable": false
   },
   "outputs": [],
   "source": [
    "grader.check(\"q3_1\")"
   ]
  },
  {
   "cell_type": "markdown",
   "id": "1e663b73",
   "metadata": {},
   "source": [
    "The `pivot` method can show counts of combinations of entries in two columns.\n",
    "For example here is the pivot table of `PARTYAFFIL` versus `SUFFIXN`."
   ]
  },
  {
   "cell_type": "code",
   "execution_count": null,
   "id": "c8bfa342",
   "metadata": {},
   "outputs": [],
   "source": [
    "voted_with_decade_noout.pivot('PARTYAFFIL','SUFFIXN')"
   ]
  },
  {
   "cell_type": "markdown",
   "id": "3fc302ac",
   "metadata": {
    "deletable": false,
    "editable": false
   },
   "source": [
    "**Question 3.2:** From `voted_with_decade_noout`, make the pivot table of `PARTYAFFIL` versus `BIRTHDECADE`."
   ]
  },
  {
   "cell_type": "code",
   "execution_count": null,
   "id": "bd18ecd1",
   "metadata": {
    "tags": []
   },
   "outputs": [],
   "source": [
    "voted_party_vs_decade = ...\n",
    "voted_party_vs_decade"
   ]
  },
  {
   "cell_type": "code",
   "execution_count": null,
   "id": "2523c069",
   "metadata": {
    "deletable": false,
    "editable": false
   },
   "outputs": [],
   "source": [
    "grader.check(\"q3_2\")"
   ]
  },
  {
   "cell_type": "markdown",
   "id": "6b6bdeaa",
   "metadata": {},
   "source": [
    "The way in which a voter voted in the 2022 general election is in the column `20221108G_TYPE`."
   ]
  },
  {
   "cell_type": "code",
   "execution_count": null,
   "id": "eb4d857b",
   "metadata": {},
   "outputs": [],
   "source": [
    "voted_with_decade_noout.group('20221108G_TYPE')"
   ]
  },
  {
   "cell_type": "markdown",
   "id": "bd4fb4fd",
   "metadata": {
    "deletable": false,
    "editable": false
   },
   "source": [
    "<!-- BEGIN QUESTION -->\n",
    "\n",
    "**Question 3.3:** Which party affiliation(s) prefered to use absentee ballots?"
   ]
  },
  {
   "cell_type": "markdown",
   "id": "592e9a52",
   "metadata": {},
   "source": [
    "_Type your answer here, replacing this text._"
   ]
  },
  {
   "cell_type": "code",
   "execution_count": null,
   "id": "ba4a212b",
   "metadata": {
    "scrolled": true,
    "tags": []
   },
   "outputs": [],
   "source": [
    "# Run some code here, then write your answer in the text cell, explaining how you came to that conclusion\n",
    "..."
   ]
  },
  {
   "cell_type": "markdown",
   "id": "4e6b2d1c",
   "metadata": {
    "deletable": false,
    "editable": false
   },
   "source": [
    "<!-- END QUESTION -->\n",
    "\n",
    "<!-- BEGIN QUESTION -->\n",
    "\n",
    "**Question 3.4:** One might think that older voters would use absentee ballots more than younger voters.\n",
    "Does this data support that conclusion?"
   ]
  },
  {
   "cell_type": "markdown",
   "id": "ee8817a4",
   "metadata": {},
   "source": [
    "_Type your answer here, replacing this text._"
   ]
  },
  {
   "cell_type": "code",
   "execution_count": null,
   "id": "f63132a7",
   "metadata": {
    "scrolled": true,
    "tags": []
   },
   "outputs": [],
   "source": [
    "# Run some code here, then write your answer in the text cell, explaining how you came to that conclusion\n",
    "..."
   ]
  },
  {
   "cell_type": "markdown",
   "id": "49474c72",
   "metadata": {
    "deletable": false,
    "editable": false
   },
   "source": [
    "<!-- END QUESTION -->\n",
    "\n",
    "## 4.  Checking consistency\n",
    "\n",
    "As noted above, the `SOSIDNUM` column in `voted` has the same ID number as the `SOS_VOTERID` in `registered`.\n",
    "We can use this ID number and the [`join` method](http://www.data8.org/datascience/reference-nb/datascience-reference.html#tbl.join()) to combine the two tables.\n",
    "\n",
    "(Note that when we join tables this way, only rows that have a match between the two tables are retained.)\n",
    "\n"
   ]
  },
  {
   "cell_type": "markdown",
   "id": "f549880f",
   "metadata": {
    "deletable": false,
    "editable": false
   },
   "source": [
    "**Question 4.1** Join `registered` onto `voted`.\n",
    "\n",
    "(Do it in the direction `voted.join(...)` rather than `registered.join(...)`.)"
   ]
  },
  {
   "cell_type": "code",
   "execution_count": null,
   "id": "b0a4797b",
   "metadata": {
    "scrolled": true,
    "tags": []
   },
   "outputs": [],
   "source": [
    "voted_joined = ...\n",
    "voted_joined.show(3)"
   ]
  },
  {
   "cell_type": "code",
   "execution_count": null,
   "id": "ab032e8c",
   "metadata": {
    "deletable": false,
    "editable": false
   },
   "outputs": [],
   "source": [
    "grader.check(\"q4_1\")"
   ]
  },
  {
   "cell_type": "markdown",
   "id": "f0f38aad",
   "metadata": {
    "deletable": false,
    "editable": false
   },
   "source": [
    "**Question 4.2:** Construct the pivot table of `PARTYAFFIL` versus `PARTY_AFFILIATION`."
   ]
  },
  {
   "cell_type": "code",
   "execution_count": null,
   "id": "faa6d906",
   "metadata": {
    "scrolled": false,
    "tags": []
   },
   "outputs": [],
   "source": [
    "affiliation_pivot = ...\n",
    "affiliation_pivot"
   ]
  },
  {
   "cell_type": "code",
   "execution_count": null,
   "id": "80b20c0c",
   "metadata": {
    "deletable": false,
    "editable": false
   },
   "outputs": [],
   "source": [
    "grader.check(\"q4_2\")"
   ]
  },
  {
   "cell_type": "markdown",
   "id": "158cf842",
   "metadata": {
    "deletable": false,
    "editable": false
   },
   "source": [
    "<!-- BEGIN QUESTION -->\n",
    "\n",
    "**Question 4.3:** How well does the party affiliation information match?\n",
    "\n",
    "Do you observe any patterns in the mismatch?"
   ]
  },
  {
   "cell_type": "markdown",
   "id": "17b98259",
   "metadata": {},
   "source": [
    "_Type your answer here, replacing this text._"
   ]
  },
  {
   "cell_type": "markdown",
   "id": "ee7348c0",
   "metadata": {
    "deletable": false,
    "editable": false
   },
   "source": [
    "<!-- END QUESTION -->\n",
    "\n",
    "One would hope that the year in the `DATE_OF_BIRTH` matches the year in `BIRTHYEAR`. \n",
    "Let's find all the cases when it does not.\n",
    "\n",
    "The contents of the `DATE_OF_BIRTH` column are strings with format like `'1919-03-24'`, so we need to\n",
    "1. Extract the first 4 characters (to get `'1919'`).\n",
    "2. Convert that to an int (to get `1919`)\n",
    "\n",
    "Selecting the first part of a string works like this example."
   ]
  },
  {
   "cell_type": "code",
   "execution_count": null,
   "id": "e0736b56",
   "metadata": {},
   "outputs": [],
   "source": [
    "'Sunday'[:3]"
   ]
  },
  {
   "cell_type": "markdown",
   "id": "d00d03f2",
   "metadata": {
    "deletable": false,
    "editable": false
   },
   "source": [
    "**Question 4.4:** Construct a function that converts a date in `'yyyy-mm-dd'` format to the integer `yyyy`."
   ]
  },
  {
   "cell_type": "code",
   "execution_count": null,
   "id": "3f27335f",
   "metadata": {
    "tags": []
   },
   "outputs": [],
   "source": [
    "def yearnumber(x):\n",
    "    ...\n",
    "# simple test\n",
    "yearnumber('1919-03-24')"
   ]
  },
  {
   "cell_type": "code",
   "execution_count": null,
   "id": "fd1580d9",
   "metadata": {
    "deletable": false,
    "editable": false
   },
   "outputs": [],
   "source": [
    "grader.check(\"q4_4\")"
   ]
  },
  {
   "cell_type": "markdown",
   "id": "479f1f85",
   "metadata": {
    "deletable": false,
    "editable": false
   },
   "source": [
    "**Question 4.5:** Assign `difference_in_years` to an array with the year from `registered` minus the year from `voted`."
   ]
  },
  {
   "cell_type": "code",
   "execution_count": null,
   "id": "d597ca32",
   "metadata": {
    "tags": []
   },
   "outputs": [],
   "source": [
    "# You could do this in one line\n",
    "year_in_DATE_OF_BIRTH = ...\n",
    "difference_in_years = ...\n",
    "difference_in_years"
   ]
  },
  {
   "cell_type": "code",
   "execution_count": null,
   "id": "ef879bb1",
   "metadata": {
    "deletable": false,
    "editable": false
   },
   "outputs": [],
   "source": [
    "grader.check(\"q4_5\")"
   ]
  },
  {
   "cell_type": "markdown",
   "id": "d6b28a91",
   "metadata": {
    "deletable": false,
    "editable": false
   },
   "source": [
    "**Question 4.6:** Assign `voted_year_errors` to a table with the rows from `voted_joined` \n",
    "where the year in the `DATE_OF_BIRTH` column does not match the year in `BIRTHYEAR`.\n",
    "\n",
    "(Hint: Use `difference_in_years` that you created above.)"
   ]
  },
  {
   "cell_type": "code",
   "execution_count": null,
   "id": "7013f83c",
   "metadata": {
    "tags": []
   },
   "outputs": [],
   "source": [
    "# You could do this in one long line\n",
    "voted_joined_with_difference = ...\n",
    "voted_year_errors = ...\n",
    "voted_year_errors"
   ]
  },
  {
   "cell_type": "code",
   "execution_count": null,
   "id": "fcb650f9",
   "metadata": {
    "deletable": false,
    "editable": false
   },
   "outputs": [],
   "source": [
    "grader.check(\"q4_6\")"
   ]
  },
  {
   "cell_type": "markdown",
   "id": "f111ce1b",
   "metadata": {},
   "source": [
    "## Feedback"
   ]
  },
  {
   "cell_type": "markdown",
   "id": "9769b108",
   "metadata": {
    "deletable": false,
    "editable": false
   },
   "source": [
    "<!-- BEGIN QUESTION -->\n",
    "\n",
    "**Feedback?:** This assignment is new. \n",
    "* Do you have any feedback or suggestions on how to improve it?\n",
    "* Are there any questions that have unclear instructions?\n",
    "* Is there anything else that you think would be interesting to do with this data?"
   ]
  },
  {
   "cell_type": "markdown",
   "id": "4475a6e6",
   "metadata": {},
   "source": [
    "_Type your answer here, replacing this text._"
   ]
  },
  {
   "cell_type": "markdown",
   "id": "50dc6ff2",
   "metadata": {
    "deletable": false,
    "editable": false
   },
   "source": [
    "<!-- END QUESTION -->\n",
    "\n",
    "## Acknowledgements"
   ]
  },
  {
   "cell_type": "markdown",
   "id": "613b27b9",
   "metadata": {
    "deletable": false,
    "editable": false
   },
   "source": [
    "<!-- BEGIN QUESTION -->\n",
    "\n",
    "**Acknowledgements:**\n",
    "If you received help from any person other than your instructor, then describe here what help you received and from whom. \n",
    "If not, then say 'None'."
   ]
  },
  {
   "cell_type": "markdown",
   "id": "fdc4e012",
   "metadata": {},
   "source": [
    "_Type your answer here, replacing this text._"
   ]
  },
  {
   "cell_type": "markdown",
   "id": "560c3c4d",
   "metadata": {
    "deletable": false,
    "editable": false
   },
   "source": [
    "<!-- END QUESTION -->\n",
    "\n",
    "It is forbidden to: \n",
    "* Use the work or programs from students who took this class (in any of its versions at any university).\n",
    "* Use websites that claim to have solutions for this class (in any of its versions at any university).\n",
    "* Directly copy from a classmate.\n",
    "\n",
    "**Did you do anything forbidden while working on this assignment?**\n",
    "\n",
    "Assign `did_forbidden` to either `True` or `False`."
   ]
  },
  {
   "cell_type": "code",
   "execution_count": null,
   "id": "80b97665",
   "metadata": {
    "tags": []
   },
   "outputs": [],
   "source": [
    "did_forbidden = ..."
   ]
  },
  {
   "cell_type": "code",
   "execution_count": null,
   "id": "a6468540",
   "metadata": {
    "deletable": false,
    "editable": false
   },
   "outputs": [],
   "source": [
    "grader.check(\"q_forbidden\")"
   ]
  },
  {
   "cell_type": "markdown",
   "id": "5b5c8eef",
   "metadata": {
    "deletable": false,
    "editable": false
   },
   "source": [
    "## Submission\n",
    "\n",
    "Make sure you have run all cells in your notebook in order before running the cell below, so that all images/graphs appear in the output. The cell below will generate a zip file for you to submit. **Please save before exporting!**\n",
    "\n",
    "After exporting, submit the .zip file in BlackBoard"
   ]
  },
  {
   "cell_type": "code",
   "execution_count": null,
   "id": "7f0b9497",
   "metadata": {
    "deletable": false,
    "editable": false
   },
   "outputs": [],
   "source": [
    "# Save your notebook first, then run this cell to export your submission.\n",
    "grader.export(run_tests=True)"
   ]
  },
  {
   "cell_type": "markdown",
   "id": "9fe0dcd2",
   "metadata": {},
   "source": [
    " "
   ]
  }
 ],
 "metadata": {
  "kernelspec": {
   "display_name": "Python 3 (ipykernel)",
   "language": "python",
   "name": "python3"
  },
  "language_info": {
   "codemirror_mode": {
    "name": "ipython",
    "version": 3
   },
   "file_extension": ".py",
   "mimetype": "text/x-python",
   "name": "python",
   "nbconvert_exporter": "python",
   "pygments_lexer": "ipython3",
   "version": "3.10.6"
  },
  "otter": {
   "OK_FORMAT": true,
   "tests": {
    "q1_1": {
     "name": "q1_1",
     "points": null,
     "suites": [
      {
       "cases": [
        {
         "code": ">>> type(ID_voted_not_registered) == set\nTrue",
         "hidden": false,
         "locked": false
        },
        {
         "code": ">>> 'OH0015515993' in ID_voted_not_registered\nTrue",
         "hidden": false,
         "locked": false
        }
       ],
       "scored": true,
       "setup": "",
       "teardown": "",
       "type": "doctest"
      }
     ]
    },
    "q1_2": {
     "name": "q1_2",
     "points": null,
     "suites": [
      {
       "cases": [
        {
         "code": ">>> voted_not_registered.num_rows == 7\nTrue",
         "hidden": false,
         "locked": false
        }
       ],
       "scored": true,
       "setup": "",
       "teardown": "",
       "type": "doctest"
      }
     ]
    },
    "q2_1": {
     "name": "q2_1",
     "points": null,
     "suites": [
      {
       "cases": [
        {
         "code": ">>> type(earliest_registered_birth) == str\nTrue",
         "hidden": false,
         "locked": false
        },
        {
         "code": ">>> len(earliest_registered_birth)\n10",
         "hidden": false,
         "locked": false
        }
       ],
       "scored": true,
       "setup": "",
       "teardown": "",
       "type": "doctest"
      }
     ]
    },
    "q2_2": {
     "name": "q2_2",
     "points": null,
     "suites": [
      {
       "cases": [
        {
         "code": ">>> type(earliest_voted_birth) == int\nTrue",
         "hidden": false,
         "locked": false
        }
       ],
       "scored": true,
       "setup": "",
       "teardown": "",
       "type": "doctest"
      }
     ]
    },
    "q2_4": {
     "name": "q2_4",
     "points": null,
     "suites": [
      {
       "cases": [
        {
         "code": ">>> type(latest_registered_birth) == str\nTrue",
         "hidden": false,
         "locked": false
        },
        {
         "code": ">>> len(latest_registered_birth)\n10",
         "hidden": false,
         "locked": false
        }
       ],
       "scored": true,
       "setup": "",
       "teardown": "",
       "type": "doctest"
      }
     ]
    },
    "q2_5": {
     "name": "q2_5",
     "points": null,
     "suites": [
      {
       "cases": [
        {
         "code": ">>> type(latest_voted_birth) == int\nTrue",
         "hidden": false,
         "locked": false
        }
       ],
       "scored": true,
       "setup": "",
       "teardown": "",
       "type": "doctest"
      }
     ]
    },
    "q2_7": {
     "name": "q2_7",
     "points": null,
     "suites": [
      {
       "cases": [
        {
         "code": ">>> 'BIRTHDECADE' in voted_with_decade.labels\nTrue",
         "hidden": false,
         "locked": false
        },
        {
         "code": ">>> type(voted_with_decade.column('BIRTHDECADE').item(0)) == int\nTrue",
         "hidden": false,
         "locked": false
        }
       ],
       "scored": true,
       "setup": "",
       "teardown": "",
       "type": "doctest"
      }
     ]
    },
    "q3_1": {
     "name": "q3_1",
     "points": null,
     "suites": [
      {
       "cases": [
        {
         "code": ">>> set(voted_with_decade_noout.column('PARTYAFFIL')).symmetric_difference({'---', 'DEM', 'REP'})\nset()",
         "hidden": false,
         "locked": false
        },
        {
         "code": ">>> set(voted_with_decade_noout.column('BIRTHDECADE')).symmetric_difference({1920, 1930, 1940, 1950, 1960, 1970, 1980, 1990, 2000})\nset()",
         "hidden": false,
         "locked": false
        }
       ],
       "scored": true,
       "setup": "",
       "teardown": "",
       "type": "doctest"
      }
     ]
    },
    "q3_2": {
     "name": "q3_2",
     "points": null,
     "suites": [
      {
       "cases": [
        {
         "code": ">>> voted_party_vs_decade.labels\n('BIRTHDECADE', '---', 'DEM', 'REP')",
         "hidden": false,
         "locked": false
        },
        {
         "code": ">>> voted_party_vs_decade.num_rows\n9",
         "hidden": false,
         "locked": false
        }
       ],
       "scored": true,
       "setup": "",
       "teardown": "",
       "type": "doctest"
      }
     ]
    },
    "q4_1": {
     "name": "q4_1",
     "points": null,
     "suites": [
      {
       "cases": [
        {
         "code": ">>> voted_joined.num_rows\n19604",
         "hidden": false,
         "locked": false
        },
        {
         "code": ">>> len(voted_joined.labels)\n81",
         "hidden": false,
         "locked": false
        }
       ],
       "scored": true,
       "setup": "",
       "teardown": "",
       "type": "doctest"
      }
     ]
    },
    "q4_2": {
     "name": "q4_2",
     "points": null,
     "suites": [
      {
       "cases": [
        {
         "code": ">>> affiliation_pivot.labels\n('PARTY_AFFILIATION', '---', 'DEM', 'IND', 'LIB', 'REP')",
         "hidden": false,
         "locked": false
        },
        {
         "code": ">>> affiliation_pivot.num_rows\n4",
         "hidden": false,
         "locked": false
        }
       ],
       "scored": true,
       "setup": "",
       "teardown": "",
       "type": "doctest"
      }
     ]
    },
    "q4_4": {
     "name": "q4_4",
     "points": null,
     "suites": [
      {
       "cases": [
        {
         "code": ">>> type(yearnumber('1919-03-24')) == int\nTrue",
         "hidden": false,
         "locked": false
        }
       ],
       "scored": true,
       "setup": "",
       "teardown": "",
       "type": "doctest"
      }
     ]
    },
    "q4_5": {
     "name": "q4_5",
     "points": null,
     "suites": [
      {
       "cases": [
        {
         "code": ">>> len(difference_in_years)\n19604",
         "hidden": false,
         "locked": false
        }
       ],
       "scored": true,
       "setup": "",
       "teardown": "",
       "type": "doctest"
      }
     ]
    },
    "q4_6": {
     "name": "q4_6",
     "points": null,
     "suites": [
      {
       "cases": [
        {
         "code": ">>> voted_year_errors.num_rows\n0",
         "hidden": false,
         "locked": false
        }
       ],
       "scored": true,
       "setup": "",
       "teardown": "",
       "type": "doctest"
      }
     ]
    },
    "q_forbidden": {
     "name": "q_forbidden",
     "points": null,
     "suites": [
      {
       "cases": [
        {
         "code": ">>> did_forbidden in [True, False]\nTrue",
         "hidden": false,
         "locked": false
        }
       ],
       "scored": true,
       "setup": "",
       "teardown": "",
       "type": "doctest"
      }
     ]
    }
   }
  }
 },
 "nbformat": 4,
 "nbformat_minor": 5
}
